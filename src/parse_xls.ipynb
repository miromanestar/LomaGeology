{
 "cells": [
  {
   "cell_type": "code",
   "execution_count": 7,
   "metadata": {},
   "outputs": [
    {
     "name": "stdout",
     "output_type": "stream",
     "text": [
      "Requirement already satisfied: xlrd in c:\\python310\\lib\\site-packages (2.0.1)\n",
      "Requirement already satisfied: pandas in c:\\python310\\lib\\site-packages (1.5.0)\n",
      "Requirement already satisfied: python-dateutil>=2.8.1 in c:\\users\\miroi\\appdata\\roaming\\python\\python310\\site-packages (from pandas) (2.8.2)\n",
      "Requirement already satisfied: numpy>=1.21.0 in c:\\python310\\lib\\site-packages (from pandas) (1.23.3)\n",
      "Requirement already satisfied: pytz>=2020.1 in c:\\python310\\lib\\site-packages (from pandas) (2022.4)\n",
      "Requirement already satisfied: six>=1.5 in c:\\users\\miroi\\appdata\\roaming\\python\\python310\\site-packages (from python-dateutil>=2.8.1->pandas) (1.16.0)\n"
     ]
    },
    {
     "name": "stderr",
     "output_type": "stream",
     "text": [
      "WARNING: Ignoring invalid distribution -ip (c:\\python310\\lib\\site-packages)\n",
      "WARNING: Ignoring invalid distribution -ip (c:\\python310\\lib\\site-packages)\n",
      "WARNING: Ignoring invalid distribution -ip (c:\\python310\\lib\\site-packages)\n",
      "WARNING: Ignoring invalid distribution -ip (c:\\python310\\lib\\site-packages)\n",
      "WARNING: Ignoring invalid distribution -ip (c:\\python310\\lib\\site-packages)\n",
      "WARNING: Ignoring invalid distribution -ip (c:\\python310\\lib\\site-packages)\n"
     ]
    }
   ],
   "source": [
    "!python -m pip install xlrd pandas"
   ]
  },
  {
   "cell_type": "code",
   "execution_count": 2,
   "metadata": {},
   "outputs": [],
   "source": [
    "import pandas as pd"
   ]
  },
  {
   "cell_type": "code",
   "execution_count": 5,
   "metadata": {},
   "outputs": [
    {
     "name": "stdout",
     "output_type": "stream",
     "text": [
      "Index(['CITATIONS', 'TECTONIC SETTING', 'ISLAND', 'LOCATION', 'VOLCANO',\n",
      "       'STAGE', 'KEA LOA TREND', 'LOCATION COMMENT', 'LATITUDE MIN',\n",
      "       'LATITUDE MAX',\n",
      "       ...\n",
      "       'BaO (%)', 'FeO*/MgO', 'Sr/Y', 'Na2O + K2O', 'Nb/U', 'Unnamed: 189',\n",
      "       'Zr/Nb', 'Sr/Nb', 'Sm/Yb', 'Sr/Nb.1'],\n",
      "      dtype='object', length=194)\n"
     ]
    },
    {
     "data": {
      "text/html": [
       "<div>\n",
       "<style scoped>\n",
       "    .dataframe tbody tr th:only-of-type {\n",
       "        vertical-align: middle;\n",
       "    }\n",
       "\n",
       "    .dataframe tbody tr th {\n",
       "        vertical-align: top;\n",
       "    }\n",
       "\n",
       "    .dataframe thead th {\n",
       "        text-align: right;\n",
       "    }\n",
       "</style>\n",
       "<table border=\"1\" class=\"dataframe\">\n",
       "  <thead>\n",
       "    <tr style=\"text-align: right;\">\n",
       "      <th></th>\n",
       "      <th>ISLAND</th>\n",
       "      <th>VOLCANO</th>\n",
       "      <th>STAGE</th>\n",
       "      <th>KEA LOA TREND</th>\n",
       "      <th>Latitude (Avg)</th>\n",
       "      <th>Longitude (Avg)</th>\n",
       "      <th>ELEVATION MAX</th>\n",
       "      <th>ELEVATION MAX</th>\n",
       "    </tr>\n",
       "  </thead>\n",
       "  <tbody>\n",
       "    <tr>\n",
       "      <th>0</th>\n",
       "      <td>1.0</td>\n",
       "      <td>1.0</td>\n",
       "      <td>0.0</td>\n",
       "      <td>2.0</td>\n",
       "      <td>19.91</td>\n",
       "      <td>-156.3</td>\n",
       "      <td>-3064</td>\n",
       "      <td>-3064</td>\n",
       "    </tr>\n",
       "    <tr>\n",
       "      <th>1</th>\n",
       "      <td>1.0</td>\n",
       "      <td>1.0</td>\n",
       "      <td>0.0</td>\n",
       "      <td>2.0</td>\n",
       "      <td>19.91</td>\n",
       "      <td>-156.3</td>\n",
       "      <td>-3064</td>\n",
       "      <td>-3064</td>\n",
       "    </tr>\n",
       "    <tr>\n",
       "      <th>2</th>\n",
       "      <td>1.0</td>\n",
       "      <td>1.0</td>\n",
       "      <td>0.0</td>\n",
       "      <td>2.0</td>\n",
       "      <td>19.91</td>\n",
       "      <td>-156.3</td>\n",
       "      <td>-3002</td>\n",
       "      <td>-3002</td>\n",
       "    </tr>\n",
       "    <tr>\n",
       "      <th>3</th>\n",
       "      <td>1.0</td>\n",
       "      <td>1.0</td>\n",
       "      <td>0.0</td>\n",
       "      <td>2.0</td>\n",
       "      <td>19.91</td>\n",
       "      <td>-156.3</td>\n",
       "      <td>-3002</td>\n",
       "      <td>-3002</td>\n",
       "    </tr>\n",
       "    <tr>\n",
       "      <th>4</th>\n",
       "      <td>1.0</td>\n",
       "      <td>1.0</td>\n",
       "      <td>0.0</td>\n",
       "      <td>2.0</td>\n",
       "      <td>19.91</td>\n",
       "      <td>-156.3</td>\n",
       "      <td>-2929</td>\n",
       "      <td>-2929</td>\n",
       "    </tr>\n",
       "  </tbody>\n",
       "</table>\n",
       "</div>"
      ],
      "text/plain": [
       "   ISLAND  VOLCANO  STAGE  KEA LOA TREND  Latitude (Avg)  Longitude (Avg)  \\\n",
       "0     1.0      1.0    0.0            2.0           19.91           -156.3   \n",
       "1     1.0      1.0    0.0            2.0           19.91           -156.3   \n",
       "2     1.0      1.0    0.0            2.0           19.91           -156.3   \n",
       "3     1.0      1.0    0.0            2.0           19.91           -156.3   \n",
       "4     1.0      1.0    0.0            2.0           19.91           -156.3   \n",
       "\n",
       "  ELEVATION MAX ELEVATION MAX  \n",
       "0         -3064         -3064  \n",
       "1         -3064         -3064  \n",
       "2         -3002         -3002  \n",
       "3         -3002         -3002  \n",
       "4         -2929         -2929  "
      ]
     },
     "execution_count": 5,
     "metadata": {},
     "output_type": "execute_result"
    }
   ],
   "source": [
    "df = pd.read_excel('../data/hawaii-5-11-22.xls', sheet_name='Complete')\n",
    "\n",
    "print(df.columns)\n",
    "\n",
    "numerical = df[['ISLAND', 'VOLCANO', 'STAGE', 'KEA LOA TREND', 'Latitude (Avg)', 'Longitude (Avg)', 'ELEVATION MAX', 'ELEVATION MAX']]\n",
    "\n",
    "numerical.head()"
   ]
  }
 ],
 "metadata": {
  "kernelspec": {
   "display_name": "Python 3.10.2 64-bit",
   "language": "python",
   "name": "python3"
  },
  "language_info": {
   "codemirror_mode": {
    "name": "ipython",
    "version": 3
   },
   "file_extension": ".py",
   "mimetype": "text/x-python",
   "name": "python",
   "nbconvert_exporter": "python",
   "pygments_lexer": "ipython3",
   "version": "3.10.2"
  },
  "orig_nbformat": 4,
  "vscode": {
   "interpreter": {
    "hash": "369f2c481f4da34e4445cda3fffd2e751bd1c4d706f27375911949ba6bb62e1c"
   }
  }
 },
 "nbformat": 4,
 "nbformat_minor": 2
}
